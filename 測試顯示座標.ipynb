{
  "cells": [
    {
      "cell_type": "markdown",
      "metadata": {
        "id": "view-in-github",
        "colab_type": "text"
      },
      "source": [
        "<a href=\"https://colab.research.google.com/github/wenchun0731/github-colab/blob/main/%E6%B8%AC%E8%A9%A6%E9%A1%AF%E7%A4%BA%E5%BA%A7%E6%A8%99.ipynb\" target=\"_parent\"><img src=\"https://colab.research.google.com/assets/colab-badge.svg\" alt=\"Open In Colab\"/></a>"
      ]
    },
    {
      "cell_type": "code",
      "execution_count": null,
      "metadata": {
        "colab": {
          "base_uri": "https://localhost:8080/"
        },
        "id": "XH4FafNe_ebq",
        "outputId": "16660856-1b90-4bdd-da1d-00d1a197d2aa"
      },
      "outputs": [
        {
          "output_type": "stream",
          "name": "stdout",
          "text": [
            "Mounted at /content/drive\n"
          ]
        }
      ],
      "source": [
        "from google.colab import drive\n",
        "drive.mount('/content/drive')"
      ]
    },
    {
      "cell_type": "code",
      "execution_count": null,
      "metadata": {
        "colab": {
          "base_uri": "https://localhost:8080/",
          "height": 1000
        },
        "id": "IYDDCWH4Ojea",
        "outputId": "d25beca2-f4e3-4a1c-ff98-222f5807545e"
      },
      "outputs": [],
      "source": [
        "# 在Google Colab上运行此代码前，请确保您已经上传了您的视频文件。\n",
        "\n",
        "# 安装所需库\n",
        "!pip install --upgrade pip\n",
        "!pip install opencv-python opencv-python-headless torch torchvision numpy==1.23.5\n",
        "\n",
        "# 克隆YOLOv7仓库\n",
        "!git clone https://github.com/WongKinYiu/yolov7.git\n",
        "%cd yolov7\n",
        "!pip install -r requirements.txt\n",
        "\n",
        "import torch\n",
        "import cv2\n",
        "import numpy as np\n",
        "import pandas as pd\n",
        "import os\n",
        "from google.colab.patches import cv2_imshow\n",
        "\n",
        "# 下载YOLOv7权重文件\n",
        "!wget https://github.com/WongKinYiu/yolov7/releases/download/v0.1/yolov7.pt\n",
        "\n",
        "# 加载YOLOv7模型\n",
        "model = torch.hub.load('WongKinYiu/yolov7', 'custom', 'yolov7.pt')\n",
        "model.eval()\n",
        "\n",
        "# 定义追踪函数\n",
        "def detect_objects(frame):\n",
        "    results = model(frame)\n",
        "    detections = results.xyxy[0].cpu().numpy()\n",
        "    boxes = []\n",
        "    for detection in detections:\n",
        "        x1, y1, x2, y2, confidence, class_id = detection\n",
        "        if confidence > 0.5 and class_id == 2:  # 2 是 COCO 数据集中 'car' 类别的 ID\n",
        "            boxes.append([int(x1), int(y1), int(x2 - x1), int(y2 - y1)])\n",
        "    return boxes\n",
        "\n",
        "# 打开视频\n",
        "video_path = '/content/drive/MyDrive/test-video-log2.mp4'  # 替换为您的视频路径\n",
        "cap = cv2.VideoCapture(video_path)\n",
        "if not cap.isOpened():\n",
        "    print(\"Error: Could not open video.\")\n",
        "else:\n",
        "    print(\"Video opened successfully.\")\n",
        "\n",
        "frame_width = int(cap.get(cv2.CAP_PROP_FRAME_WIDTH))\n",
        "frame_height = int(cap.get(cv2.CAP_PROP_FRAME_HEIGHT))\n",
        "fps = int(cap.get(cv2.CAP_PROP_FPS))\n",
        "print(f\"Frame Width: {frame_width}, Frame Height: {frame_height}, FPS: {fps}\")\n",
        "\n",
        "# 设置输出视频的参数\n",
        "output_path = '/content/output_video.mp4'\n",
        "fourcc = cv2.VideoWriter_fourcc(*'mp4v')\n",
        "out = cv2.VideoWriter(output_path, fourcc, fps, (frame_width, frame_height))\n",
        "\n",
        "if not out.isOpened():\n",
        "    print(\"Error: Could not open video writer.\")\n",
        "else:\n",
        "    print(\"Video writer opened successfully.\")\n",
        "\n",
        "coordinates = []\n",
        "\n",
        "frame_count = 0\n",
        "while(cap.isOpened()):\n",
        "    ret, frame = cap.read()\n",
        "    if not ret:\n",
        "        break\n",
        "    frame_id = int(cap.get(cv2.CAP_PROP_POS_FRAMES))  # 当前帧的索引\n",
        "    boxes = detect_objects(frame)\n",
        "    for box in boxes:\n",
        "        x, y, w, h = box\n",
        "        coordinates.append({\n",
        "            'frame_id': frame_id,\n",
        "            'x': x,\n",
        "            'y': y,\n",
        "            'w': w,\n",
        "            'h': h\n",
        "        })\n",
        "        # 在每个框上绘制矩形和坐标\n",
        "        color = (0, 255, 0)\n",
        "        cv2.rectangle(frame, (x, y), (x + w, y + h), color, 2)\n",
        "        cv2.putText(frame, f'car: {x}, {y}, {w}, {h}', (x, y - 10), cv2.FONT_HERSHEY_PLAIN, 1, color, 2)\n",
        "    out.write(frame)  # 将处理后的帧写入输出视频\n",
        "    frame_count += 1\n",
        "    if frame_count % 10 == 0:\n",
        "        print(f\"Processed {frame_count} frames.\")\n",
        "        cv2_imshow(frame)  # 在Colab上显示图像\n",
        "\n",
        "cap.release()\n",
        "out.release()\n",
        "\n",
        "# 检查文件是否已创建\n",
        "if os.path.exists(output_path):\n",
        "    print(f\"Output video saved successfully at {output_path}\")\n",
        "else:\n",
        "    print(f\"Error: Output video was not saved at {output_path}\")\n",
        "\n",
        "# 保存坐标数据\n",
        "csv_path = '/content/vehicle_coordinates.csv'\n",
        "df = pd.DataFrame(coordinates)\n",
        "df.to_csv(csv_path, index=False)\n",
        "print(f\"Coordinates have been saved to {csv_path}\")\n",
        "\n",
        "# 下载生成的视频文件\n",
        "from google.colab import files\n",
        "files.download(output_path)\n"
      ]
    }
  ],
  "metadata": {
    "colab": {
      "provenance": [],
      "authorship_tag": "ABX9TyOkcsoyO7wPZ8trQSMTPOrb",
      "include_colab_link": true
    },
    "kernelspec": {
      "display_name": "Python 3",
      "name": "python3"
    },
    "language_info": {
      "name": "python"
    }
  },
  "nbformat": 4,
  "nbformat_minor": 0
}