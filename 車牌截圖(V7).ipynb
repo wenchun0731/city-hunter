{
  "nbformat": 4,
  "nbformat_minor": 0,
  "metadata": {
    "colab": {
      "provenance": [],
      "authorship_tag": "ABX9TyMl4r5zYa2QzWsWnTDXKghF",
      "include_colab_link": true
    },
    "kernelspec": {
      "name": "python3",
      "display_name": "Python 3"
    },
    "language_info": {
      "name": "python"
    }
  },
  "cells": [
    {
      "cell_type": "markdown",
      "metadata": {
        "id": "view-in-github",
        "colab_type": "text"
      },
      "source": [
        "<a href=\"https://colab.research.google.com/github/wenchun0731/github-colab/blob/main/%E8%BB%8A%E7%89%8C%E6%88%AA%E5%9C%96(V7).ipynb\" target=\"_parent\"><img src=\"https://colab.research.google.com/assets/colab-badge.svg\" alt=\"Open In Colab\"/></a>"
      ]
    },
    {
      "cell_type": "code",
      "source": [
        "#掛載到google雲端\n",
        "from google.colab import drive\n",
        "drive.mount('/content/drive')"
      ],
      "metadata": {
        "colab": {
          "base_uri": "https://localhost:8080/"
        },
        "id": "88pHjriUf4ny",
        "outputId": "50fc2520-ca56-4ff7-fadd-08279737edbb"
      },
      "execution_count": null,
      "outputs": [
        {
          "output_type": "stream",
          "name": "stdout",
          "text": [
            "Drive already mounted at /content/drive; to attempt to forcibly remount, call drive.mount(\"/content/drive\", force_remount=True).\n"
          ]
        }
      ]
    },
    {
      "cell_type": "code",
      "execution_count": null,
      "metadata": {
        "colab": {
          "base_uri": "https://localhost:8080/"
        },
        "id": "vP5EBVkj7ffP",
        "outputId": "f299c903-0c02-44bc-a7e4-9ba3b224c9fe"
      },
      "outputs": [
        {
          "output_type": "stream",
          "name": "stdout",
          "text": [
            "fatal: destination path 'yolov7' already exists and is not an empty directory.\n",
            "/content/yolov7\n",
            "Requirement already satisfied: matplotlib>=3.2.2 in /usr/local/lib/python3.10/dist-packages (from -r requirements.txt (line 4)) (3.7.1)\n",
            "Requirement already satisfied: numpy<1.24.0,>=1.18.5 in /usr/local/lib/python3.10/dist-packages (from -r requirements.txt (line 5)) (1.23.5)\n",
            "Requirement already satisfied: opencv-python>=4.1.1 in /usr/local/lib/python3.10/dist-packages (from -r requirements.txt (line 6)) (4.8.0.76)\n",
            "Requirement already satisfied: Pillow>=7.1.2 in /usr/local/lib/python3.10/dist-packages (from -r requirements.txt (line 7)) (9.4.0)\n",
            "Requirement already satisfied: PyYAML>=5.3.1 in /usr/local/lib/python3.10/dist-packages (from -r requirements.txt (line 8)) (6.0.1)\n",
            "Requirement already satisfied: requests>=2.23.0 in /usr/local/lib/python3.10/dist-packages (from -r requirements.txt (line 9)) (2.31.0)\n",
            "Requirement already satisfied: scipy>=1.4.1 in /usr/local/lib/python3.10/dist-packages (from -r requirements.txt (line 10)) (1.11.4)\n",
            "Requirement already satisfied: torch!=1.12.0,>=1.7.0 in /usr/local/lib/python3.10/dist-packages (from -r requirements.txt (line 11)) (2.3.0+cu121)\n",
            "Requirement already satisfied: torchvision!=0.13.0,>=0.8.1 in /usr/local/lib/python3.10/dist-packages (from -r requirements.txt (line 12)) (0.18.0+cu121)\n",
            "Requirement already satisfied: tqdm>=4.41.0 in /usr/local/lib/python3.10/dist-packages (from -r requirements.txt (line 13)) (4.66.4)\n",
            "Requirement already satisfied: protobuf<4.21.3 in /usr/local/lib/python3.10/dist-packages (from -r requirements.txt (line 14)) (3.20.3)\n",
            "Requirement already satisfied: tensorboard>=2.4.1 in /usr/local/lib/python3.10/dist-packages (from -r requirements.txt (line 17)) (2.15.2)\n",
            "Requirement already satisfied: pandas>=1.1.4 in /usr/local/lib/python3.10/dist-packages (from -r requirements.txt (line 21)) (2.0.3)\n",
            "Requirement already satisfied: seaborn>=0.11.0 in /usr/local/lib/python3.10/dist-packages (from -r requirements.txt (line 22)) (0.13.1)\n",
            "Requirement already satisfied: ipython in /usr/local/lib/python3.10/dist-packages (from -r requirements.txt (line 34)) (7.34.0)\n",
            "Requirement already satisfied: psutil in /usr/local/lib/python3.10/dist-packages (from -r requirements.txt (line 35)) (5.9.5)\n",
            "Requirement already satisfied: thop in /usr/local/lib/python3.10/dist-packages (from -r requirements.txt (line 36)) (0.1.1.post2209072238)\n",
            "Requirement already satisfied: contourpy>=1.0.1 in /usr/local/lib/python3.10/dist-packages (from matplotlib>=3.2.2->-r requirements.txt (line 4)) (1.2.1)\n",
            "Requirement already satisfied: cycler>=0.10 in /usr/local/lib/python3.10/dist-packages (from matplotlib>=3.2.2->-r requirements.txt (line 4)) (0.12.1)\n",
            "Requirement already satisfied: fonttools>=4.22.0 in /usr/local/lib/python3.10/dist-packages (from matplotlib>=3.2.2->-r requirements.txt (line 4)) (4.51.0)\n",
            "Requirement already satisfied: kiwisolver>=1.0.1 in /usr/local/lib/python3.10/dist-packages (from matplotlib>=3.2.2->-r requirements.txt (line 4)) (1.4.5)\n",
            "Requirement already satisfied: packaging>=20.0 in /usr/local/lib/python3.10/dist-packages (from matplotlib>=3.2.2->-r requirements.txt (line 4)) (24.0)\n",
            "Requirement already satisfied: pyparsing>=2.3.1 in /usr/local/lib/python3.10/dist-packages (from matplotlib>=3.2.2->-r requirements.txt (line 4)) (3.1.2)\n",
            "Requirement already satisfied: python-dateutil>=2.7 in /usr/local/lib/python3.10/dist-packages (from matplotlib>=3.2.2->-r requirements.txt (line 4)) (2.8.2)\n",
            "Requirement already satisfied: charset-normalizer<4,>=2 in /usr/local/lib/python3.10/dist-packages (from requests>=2.23.0->-r requirements.txt (line 9)) (3.3.2)\n",
            "Requirement already satisfied: idna<4,>=2.5 in /usr/local/lib/python3.10/dist-packages (from requests>=2.23.0->-r requirements.txt (line 9)) (3.7)\n",
            "Requirement already satisfied: urllib3<3,>=1.21.1 in /usr/local/lib/python3.10/dist-packages (from requests>=2.23.0->-r requirements.txt (line 9)) (2.0.7)\n",
            "Requirement already satisfied: certifi>=2017.4.17 in /usr/local/lib/python3.10/dist-packages (from requests>=2.23.0->-r requirements.txt (line 9)) (2024.2.2)\n",
            "Requirement already satisfied: filelock in /usr/local/lib/python3.10/dist-packages (from torch!=1.12.0,>=1.7.0->-r requirements.txt (line 11)) (3.14.0)\n",
            "Requirement already satisfied: typing-extensions>=4.8.0 in /usr/local/lib/python3.10/dist-packages (from torch!=1.12.0,>=1.7.0->-r requirements.txt (line 11)) (4.11.0)\n",
            "Requirement already satisfied: sympy in /usr/local/lib/python3.10/dist-packages (from torch!=1.12.0,>=1.7.0->-r requirements.txt (line 11)) (1.12)\n",
            "Requirement already satisfied: networkx in /usr/local/lib/python3.10/dist-packages (from torch!=1.12.0,>=1.7.0->-r requirements.txt (line 11)) (3.3)\n",
            "Requirement already satisfied: jinja2 in /usr/local/lib/python3.10/dist-packages (from torch!=1.12.0,>=1.7.0->-r requirements.txt (line 11)) (3.1.4)\n",
            "Requirement already satisfied: fsspec in /usr/local/lib/python3.10/dist-packages (from torch!=1.12.0,>=1.7.0->-r requirements.txt (line 11)) (2023.6.0)\n",
            "Requirement already satisfied: nvidia-cuda-nvrtc-cu12==12.1.105 in /usr/local/lib/python3.10/dist-packages (from torch!=1.12.0,>=1.7.0->-r requirements.txt (line 11)) (12.1.105)\n",
            "Requirement already satisfied: nvidia-cuda-runtime-cu12==12.1.105 in /usr/local/lib/python3.10/dist-packages (from torch!=1.12.0,>=1.7.0->-r requirements.txt (line 11)) (12.1.105)\n",
            "Requirement already satisfied: nvidia-cuda-cupti-cu12==12.1.105 in /usr/local/lib/python3.10/dist-packages (from torch!=1.12.0,>=1.7.0->-r requirements.txt (line 11)) (12.1.105)\n",
            "Requirement already satisfied: nvidia-cudnn-cu12==8.9.2.26 in /usr/local/lib/python3.10/dist-packages (from torch!=1.12.0,>=1.7.0->-r requirements.txt (line 11)) (8.9.2.26)\n",
            "Requirement already satisfied: nvidia-cublas-cu12==12.1.3.1 in /usr/local/lib/python3.10/dist-packages (from torch!=1.12.0,>=1.7.0->-r requirements.txt (line 11)) (12.1.3.1)\n",
            "Requirement already satisfied: nvidia-cufft-cu12==11.0.2.54 in /usr/local/lib/python3.10/dist-packages (from torch!=1.12.0,>=1.7.0->-r requirements.txt (line 11)) (11.0.2.54)\n",
            "Requirement already satisfied: nvidia-curand-cu12==10.3.2.106 in /usr/local/lib/python3.10/dist-packages (from torch!=1.12.0,>=1.7.0->-r requirements.txt (line 11)) (10.3.2.106)\n",
            "Requirement already satisfied: nvidia-cusolver-cu12==11.4.5.107 in /usr/local/lib/python3.10/dist-packages (from torch!=1.12.0,>=1.7.0->-r requirements.txt (line 11)) (11.4.5.107)\n",
            "Requirement already satisfied: nvidia-cusparse-cu12==12.1.0.106 in /usr/local/lib/python3.10/dist-packages (from torch!=1.12.0,>=1.7.0->-r requirements.txt (line 11)) (12.1.0.106)\n",
            "Requirement already satisfied: nvidia-nccl-cu12==2.20.5 in /usr/local/lib/python3.10/dist-packages (from torch!=1.12.0,>=1.7.0->-r requirements.txt (line 11)) (2.20.5)\n",
            "Requirement already satisfied: nvidia-nvtx-cu12==12.1.105 in /usr/local/lib/python3.10/dist-packages (from torch!=1.12.0,>=1.7.0->-r requirements.txt (line 11)) (12.1.105)\n",
            "Requirement already satisfied: triton==2.3.0 in /usr/local/lib/python3.10/dist-packages (from torch!=1.12.0,>=1.7.0->-r requirements.txt (line 11)) (2.3.0)\n",
            "Requirement already satisfied: nvidia-nvjitlink-cu12 in /usr/local/lib/python3.10/dist-packages (from nvidia-cusolver-cu12==11.4.5.107->torch!=1.12.0,>=1.7.0->-r requirements.txt (line 11)) (12.5.40)\n",
            "Requirement already satisfied: absl-py>=0.4 in /usr/local/lib/python3.10/dist-packages (from tensorboard>=2.4.1->-r requirements.txt (line 17)) (1.4.0)\n",
            "Requirement already satisfied: grpcio>=1.48.2 in /usr/local/lib/python3.10/dist-packages (from tensorboard>=2.4.1->-r requirements.txt (line 17)) (1.64.0)\n",
            "Requirement already satisfied: google-auth<3,>=1.6.3 in /usr/local/lib/python3.10/dist-packages (from tensorboard>=2.4.1->-r requirements.txt (line 17)) (2.27.0)\n",
            "Requirement already satisfied: google-auth-oauthlib<2,>=0.5 in /usr/local/lib/python3.10/dist-packages (from tensorboard>=2.4.1->-r requirements.txt (line 17)) (1.2.0)\n",
            "Requirement already satisfied: markdown>=2.6.8 in /usr/local/lib/python3.10/dist-packages (from tensorboard>=2.4.1->-r requirements.txt (line 17)) (3.6)\n",
            "Requirement already satisfied: setuptools>=41.0.0 in /usr/local/lib/python3.10/dist-packages (from tensorboard>=2.4.1->-r requirements.txt (line 17)) (67.7.2)\n",
            "Requirement already satisfied: six>1.9 in /usr/local/lib/python3.10/dist-packages (from tensorboard>=2.4.1->-r requirements.txt (line 17)) (1.16.0)\n",
            "Requirement already satisfied: tensorboard-data-server<0.8.0,>=0.7.0 in /usr/local/lib/python3.10/dist-packages (from tensorboard>=2.4.1->-r requirements.txt (line 17)) (0.7.2)\n",
            "Requirement already satisfied: werkzeug>=1.0.1 in /usr/local/lib/python3.10/dist-packages (from tensorboard>=2.4.1->-r requirements.txt (line 17)) (3.0.3)\n",
            "Requirement already satisfied: pytz>=2020.1 in /usr/local/lib/python3.10/dist-packages (from pandas>=1.1.4->-r requirements.txt (line 21)) (2023.4)\n",
            "Requirement already satisfied: tzdata>=2022.1 in /usr/local/lib/python3.10/dist-packages (from pandas>=1.1.4->-r requirements.txt (line 21)) (2024.1)\n",
            "Requirement already satisfied: jedi>=0.16 in /usr/local/lib/python3.10/dist-packages (from ipython->-r requirements.txt (line 34)) (0.19.1)\n",
            "Requirement already satisfied: decorator in /usr/local/lib/python3.10/dist-packages (from ipython->-r requirements.txt (line 34)) (4.4.2)\n",
            "Requirement already satisfied: pickleshare in /usr/local/lib/python3.10/dist-packages (from ipython->-r requirements.txt (line 34)) (0.7.5)\n",
            "Requirement already satisfied: traitlets>=4.2 in /usr/local/lib/python3.10/dist-packages (from ipython->-r requirements.txt (line 34)) (5.7.1)\n",
            "Requirement already satisfied: prompt-toolkit!=3.0.0,!=3.0.1,<3.1.0,>=2.0.0 in /usr/local/lib/python3.10/dist-packages (from ipython->-r requirements.txt (line 34)) (3.0.43)\n",
            "Requirement already satisfied: pygments in /usr/local/lib/python3.10/dist-packages (from ipython->-r requirements.txt (line 34)) (2.16.1)\n",
            "Requirement already satisfied: backcall in /usr/local/lib/python3.10/dist-packages (from ipython->-r requirements.txt (line 34)) (0.2.0)\n",
            "Requirement already satisfied: matplotlib-inline in /usr/local/lib/python3.10/dist-packages (from ipython->-r requirements.txt (line 34)) (0.1.7)\n",
            "Requirement already satisfied: pexpect>4.3 in /usr/local/lib/python3.10/dist-packages (from ipython->-r requirements.txt (line 34)) (4.9.0)\n",
            "Requirement already satisfied: cachetools<6.0,>=2.0.0 in /usr/local/lib/python3.10/dist-packages (from google-auth<3,>=1.6.3->tensorboard>=2.4.1->-r requirements.txt (line 17)) (5.3.3)\n",
            "Requirement already satisfied: pyasn1-modules>=0.2.1 in /usr/local/lib/python3.10/dist-packages (from google-auth<3,>=1.6.3->tensorboard>=2.4.1->-r requirements.txt (line 17)) (0.4.0)\n",
            "Requirement already satisfied: rsa<5,>=3.1.4 in /usr/local/lib/python3.10/dist-packages (from google-auth<3,>=1.6.3->tensorboard>=2.4.1->-r requirements.txt (line 17)) (4.9)\n",
            "Requirement already satisfied: requests-oauthlib>=0.7.0 in /usr/local/lib/python3.10/dist-packages (from google-auth-oauthlib<2,>=0.5->tensorboard>=2.4.1->-r requirements.txt (line 17)) (1.3.1)\n",
            "Requirement already satisfied: parso<0.9.0,>=0.8.3 in /usr/local/lib/python3.10/dist-packages (from jedi>=0.16->ipython->-r requirements.txt (line 34)) (0.8.4)\n",
            "Requirement already satisfied: ptyprocess>=0.5 in /usr/local/lib/python3.10/dist-packages (from pexpect>4.3->ipython->-r requirements.txt (line 34)) (0.7.0)\n",
            "Requirement already satisfied: wcwidth in /usr/local/lib/python3.10/dist-packages (from prompt-toolkit!=3.0.0,!=3.0.1,<3.1.0,>=2.0.0->ipython->-r requirements.txt (line 34)) (0.2.13)\n",
            "Requirement already satisfied: MarkupSafe>=2.1.1 in /usr/local/lib/python3.10/dist-packages (from werkzeug>=1.0.1->tensorboard>=2.4.1->-r requirements.txt (line 17)) (2.1.5)\n",
            "Requirement already satisfied: mpmath>=0.19 in /usr/local/lib/python3.10/dist-packages (from sympy->torch!=1.12.0,>=1.7.0->-r requirements.txt (line 11)) (1.3.0)\n",
            "Requirement already satisfied: pyasn1<0.7.0,>=0.4.6 in /usr/local/lib/python3.10/dist-packages (from pyasn1-modules>=0.2.1->google-auth<3,>=1.6.3->tensorboard>=2.4.1->-r requirements.txt (line 17)) (0.6.0)\n",
            "Requirement already satisfied: oauthlib>=3.0.0 in /usr/local/lib/python3.10/dist-packages (from requests-oauthlib>=0.7.0->google-auth-oauthlib<2,>=0.5->tensorboard>=2.4.1->-r requirements.txt (line 17)) (3.2.2)\n",
            "cfg\tdetect.py  hubconf.py  models\t  requirements.txt  tools\t  utils\n",
            "data\texport.py  inference   paper\t  scripts\t    train_aux.py\n",
            "deploy\tfigure\t   LICENSE.md  README.md  test.py\t    train.py\n"
          ]
        }
      ],
      "source": [
        "!git clone https://github.com/WongKinYiu/yolov7\n",
        "%cd yolov7\n",
        "!pip install -r requirements.txt\n",
        "!ls"
      ]
    },
    {
      "cell_type": "code",
      "source": [
        "#照片偵測\n",
        "%cd yolov7\n",
        "!python /content/yolov7/detect.py --weights /content/drive/MyDrive/Finetune/Licence_Finetune/train/exp/weights/best.pt --conf-thres=0.05 --iou-thres=0.5 --img-size 640 --source /content/drive/MyDrive/licence/plates --project /content/drive/MyDrive/Finetune/Licence_Finetune/detect --save-txt --save-conf"
      ],
      "metadata": {
        "id": "SKDeh36Y8JRk",
        "colab": {
          "base_uri": "https://localhost:8080/"
        },
        "outputId": "f532abeb-f56d-44b5-abf5-77e6a4d8041b"
      },
      "execution_count": null,
      "outputs": [
        {
          "output_type": "stream",
          "name": "stdout",
          "text": [
            "[Errno 2] No such file or directory: 'yolov7'\n",
            "/content/yolov7\n",
            "Namespace(weights=['/content/drive/MyDrive/Finetune/Licence_Finetune/train/exp/weights/best.pt'], source='/content/drive/MyDrive/licence/plates', img_size=640, conf_thres=0.05, iou_thres=0.5, device='', view_img=False, save_txt=True, save_conf=True, nosave=False, classes=None, agnostic_nms=False, augment=False, update=False, project='/content/drive/MyDrive/Finetune/Licence_Finetune/detect', name='exp', exist_ok=False, no_trace=False)\n",
            "YOLOR 🚀 v0.1-128-ga207844 torch 2.3.0+cu121 CPU\n",
            "\n",
            "Fusing layers... \n",
            "RepConv.fuse_repvgg_block\n",
            "RepConv.fuse_repvgg_block\n",
            "RepConv.fuse_repvgg_block\n",
            "IDetect.fuse\n",
            "/usr/local/lib/python3.10/dist-packages/torch/functional.py:512: UserWarning: torch.meshgrid: in an upcoming release, it will be required to pass the indexing argument. (Triggered internally at ../aten/src/ATen/native/TensorShape.cpp:3587.)\n",
            "  return _VF.meshgrid(tensors, **kwargs)  # type: ignore[attr-defined]\n",
            "Model Summary: 314 layers, 36481772 parameters, 6194944 gradients, 103.2 GFLOPS\n",
            " Convert model to Traced-model... \n",
            " traced_script_module saved! \n",
            " model is traced! \n",
            "\n",
            "1 licence, Done. (2272.1ms) Inference, (1.2ms) NMS\n",
            " The image with the result is saved in: /content/drive/MyDrive/Finetune/Licence_Finetune/detect/exp7/IMG_6200.jpg\n",
            "1 licence, Done. (1970.1ms) Inference, (0.8ms) NMS\n",
            " The image with the result is saved in: /content/drive/MyDrive/Finetune/Licence_Finetune/detect/exp7/IMG_6201.jpg\n",
            "1 licence, Done. (2020.3ms) Inference, (0.8ms) NMS\n",
            " The image with the result is saved in: /content/drive/MyDrive/Finetune/Licence_Finetune/detect/exp7/IMG_6202.jpg\n",
            "Done. (2196.4ms) Inference, (0.3ms) NMS\n",
            " The image with the result is saved in: /content/drive/MyDrive/Finetune/Licence_Finetune/detect/exp7/IMG_6203.jpg\n",
            "1 licence, Done. (2338.2ms) Inference, (1.1ms) NMS\n",
            " The image with the result is saved in: /content/drive/MyDrive/Finetune/Licence_Finetune/detect/exp7/IMG_6204.jpg\n",
            "1 licence, Done. (2330.8ms) Inference, (0.8ms) NMS\n",
            " The image with the result is saved in: /content/drive/MyDrive/Finetune/Licence_Finetune/detect/exp7/IMG_6205.jpg\n",
            "1 licence, Done. (2378.2ms) Inference, (0.9ms) NMS\n",
            " The image with the result is saved in: /content/drive/MyDrive/Finetune/Licence_Finetune/detect/exp7/IMG_6206.jpg\n",
            "1 licence, Done. (1550.6ms) Inference, (0.8ms) NMS\n",
            " The image with the result is saved in: /content/drive/MyDrive/Finetune/Licence_Finetune/detect/exp7/IMG_6207.jpg\n",
            "Done. (1707.9ms) Inference, (0.2ms) NMS\n",
            " The image with the result is saved in: /content/drive/MyDrive/Finetune/Licence_Finetune/detect/exp7/IMG_6208.jpg\n",
            "Done. (2044.1ms) Inference, (0.2ms) NMS\n",
            " The image with the result is saved in: /content/drive/MyDrive/Finetune/Licence_Finetune/detect/exp7/IMG_6209.jpg\n",
            "1 licence, Done. (3416.7ms) Inference, (1.1ms) NMS\n",
            " The image with the result is saved in: /content/drive/MyDrive/Finetune/Licence_Finetune/detect/exp7/IMG_6210.jpg\n",
            "1 licence, Done. (1973.9ms) Inference, (0.9ms) NMS\n",
            " The image with the result is saved in: /content/drive/MyDrive/Finetune/Licence_Finetune/detect/exp7/IMG_6211.jpg\n",
            "Done. (31.455s)\n"
          ]
        }
      ]
    },
    {
      "cell_type": "code",
      "source": [
        "# 安裝Pillow庫\n",
        "!pip install Pillow\n",
        "\n",
        "# 從Pillow庫中導入Image\n",
        "from PIL import Image\n",
        "import os"
      ],
      "metadata": {
        "colab": {
          "base_uri": "https://localhost:8080/"
        },
        "id": "Aqr282nDmLrE",
        "outputId": "f0cffdb2-6604-451c-986d-829ddc577316"
      },
      "execution_count": null,
      "outputs": [
        {
          "output_type": "stream",
          "name": "stdout",
          "text": [
            "Requirement already satisfied: Pillow in /usr/local/lib/python3.10/dist-packages (9.4.0)\n"
          ]
        }
      ]
    },
    {
      "cell_type": "code",
      "source": [
        "# 定義標籤文件和圖像文件的目錄\n",
        "label_dir = '/content/drive/MyDrive/Finetune/Licence_Finetune/detect/exp7/labels'  # 替換為實際標籤文件目錄\n",
        "image_dir = '/content/drive/MyDrive/licence/plates'  # 替換為實際圖像文件目錄\n",
        "output_dir = '/content/drive/MyDrive/crop_picture'  # 替換為實際輸出目錄\n",
        "\n",
        "# 確保保存截取圖像的目錄存在\n",
        "os.makedirs(output_dir, exist_ok=True)\n",
        "\n",
        "# 獲取所有標籤文件\n",
        "label_files = [f for f in os.listdir(label_dir) if f.endswith('.txt')]\n",
        "\n",
        "# 定義拓寬的像素值\n",
        "padding = 10  # 可以根據需要調整拓寬的像素值\n",
        "\n",
        "# 遍歷每個標籤文件並進行處理\n",
        "for label_file in label_files:\n",
        "    label_file_path = os.path.join(label_dir, label_file)\n",
        "\n",
        "    # 讀取標籤文件內容\n",
        "    with open(label_file_path, 'r') as file:\n",
        "        content = file.read().strip()\n",
        "\n",
        "        # 分割數字\n",
        "        numbers = list(map(float, content.split()))\n",
        "\n",
        "        # 進行計算\n",
        "        if len(numbers) >= 6:\n",
        "            # 對應的圖像文件名\n",
        "            image_file = label_file.replace('.txt', '.jpg')\n",
        "            image_path = os.path.join(image_dir, image_file)\n",
        "\n",
        "            # 確保圖像文件存在\n",
        "            if os.path.exists(image_path):\n",
        "                # 打開圖像並獲取其尺寸\n",
        "                image = Image.open(image_path)\n",
        "                width, height = image.size\n",
        "\n",
        "                center_x = numbers[1] * width\n",
        "                center_y = numbers[2] * height\n",
        "                box_width = numbers[3] * width\n",
        "                box_height = numbers[4] * height\n",
        "\n",
        "                # 計算左上角和右下角的座標\n",
        "                left = int(center_x - box_width / 2)\n",
        "                top = int(center_y - box_height / 2)\n",
        "                right = int(center_x + box_width / 2)\n",
        "                bottom = int(center_y + box_height / 2)\n",
        "\n",
        "                # 拓寬邊界\n",
        "                left = max(0, left - padding)\n",
        "                top = max(0, top - padding)\n",
        "                right = min(width, right + padding)\n",
        "                bottom = min(height, bottom + padding)\n",
        "\n",
        "                # 截取圖像\n",
        "                cropped_image = image.crop((left, top, right, bottom))\n",
        "\n",
        "                # 保存截取的圖像\n",
        "                cropped_image_file = f'cropped_{os.path.splitext(image_file)[0]}.jpg'\n",
        "                cropped_image_path = os.path.join(output_dir, cropped_image_file)\n",
        "                cropped_image.save(cropped_image_path)\n",
        "                print(f\"截取的圖像已保存到: {cropped_image_path}\")\n",
        "            else:\n",
        "                print(f\"對應的圖像文件不存在: {image_path}\")\n",
        "        else:\n",
        "            print(f\"文件內容格式錯誤，數字數量不足: {label_file_path}\")\n"
      ],
      "metadata": {
        "id": "RS6jhNxpnwCr",
        "colab": {
          "base_uri": "https://localhost:8080/"
        },
        "outputId": "516c0cca-68bc-483d-a0fd-ad67a2b70432"
      },
      "execution_count": null,
      "outputs": [
        {
          "output_type": "stream",
          "name": "stdout",
          "text": [
            "截取的圖像已保存到: /content/drive/MyDrive/crop_picture/cropped_IMG_6200.jpg\n",
            "截取的圖像已保存到: /content/drive/MyDrive/crop_picture/cropped_IMG_6201.jpg\n",
            "截取的圖像已保存到: /content/drive/MyDrive/crop_picture/cropped_IMG_6202.jpg\n",
            "截取的圖像已保存到: /content/drive/MyDrive/crop_picture/cropped_IMG_6204.jpg\n",
            "截取的圖像已保存到: /content/drive/MyDrive/crop_picture/cropped_IMG_6205.jpg\n",
            "截取的圖像已保存到: /content/drive/MyDrive/crop_picture/cropped_IMG_6206.jpg\n",
            "截取的圖像已保存到: /content/drive/MyDrive/crop_picture/cropped_IMG_6207.jpg\n",
            "截取的圖像已保存到: /content/drive/MyDrive/crop_picture/cropped_IMG_6210.jpg\n",
            "截取的圖像已保存到: /content/drive/MyDrive/crop_picture/cropped_IMG_6211.jpg\n"
          ]
        }
      ]
    },
    {
      "cell_type": "code",
      "source": [],
      "metadata": {
        "id": "C6foBnE-yhDx"
      },
      "execution_count": null,
      "outputs": []
    }
  ]
}