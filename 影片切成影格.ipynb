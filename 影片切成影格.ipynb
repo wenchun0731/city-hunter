{
  "nbformat": 4,
  "nbformat_minor": 0,
  "metadata": {
    "colab": {
      "provenance": [],
      "include_colab_link": true
    },
    "kernelspec": {
      "name": "python3",
      "display_name": "Python 3"
    },
    "language_info": {
      "name": "python"
    }
  },
  "cells": [
    {
      "cell_type": "markdown",
      "metadata": {
        "id": "view-in-github",
        "colab_type": "text"
      },
      "source": [
        "<a href=\"https://colab.research.google.com/github/wenchun0731/github-colab/blob/main/%E5%BD%B1%E7%89%87%E5%88%87%E6%88%90%E5%BD%B1%E6%A0%BC.ipynb\" target=\"_parent\"><img src=\"https://colab.research.google.com/assets/colab-badge.svg\" alt=\"Open In Colab\"/></a>"
      ]
    },
    {
      "cell_type": "code",
      "source": [
        "import sys\n",
        "import torch\n",
        "print(f\"Python version: {sys.version}, {sys.version_info} \")\n",
        "print(f\"Pytorch version: {torch.__version__} \")"
      ],
      "metadata": {
        "colab": {
          "base_uri": "https://localhost:8080/"
        },
        "id": "msS1ksMCbcOZ",
        "outputId": "9193bce1-9944-43ac-d1ca-f94b459105db"
      },
      "execution_count": null,
      "outputs": [
        {
          "output_type": "stream",
          "name": "stdout",
          "text": [
            "Python version: 3.10.12 (main, Nov 20 2023, 15:14:05) [GCC 11.4.0], sys.version_info(major=3, minor=10, micro=12, releaselevel='final', serial=0) \n",
            "Pytorch version: 2.3.0+cu121 \n"
          ]
        }
      ]
    },
    {
      "cell_type": "code",
      "source": [
        "#掛載雲端硬碟\n",
        "from google.colab import drive\n",
        "drive.mount('/content/drive')"
      ],
      "metadata": {
        "colab": {
          "base_uri": "https://localhost:8080/"
        },
        "id": "3RcRWfIdeMex",
        "outputId": "b0c93d4d-8759-474e-f7c2-b092d296a1f8"
      },
      "execution_count": 1,
      "outputs": [
        {
          "output_type": "stream",
          "name": "stdout",
          "text": [
            "Mounted at /content/drive\n"
          ]
        }
      ]
    },
    {
      "cell_type": "code",
      "source": [
        "#切成影格\n",
        "import cv2\n",
        "#設定擷取方法\n",
        "def extract_frames(video_path, output_folder, frame_interval):\n",
        "    # 打開影片檔案\n",
        "    cap = cv2.VideoCapture(video_path)\n",
        "\n",
        "    # 確認影片檔案是否成功打開\n",
        "    if not cap.isOpened():\n",
        "        print(\"Error: Unable to open video file.\")\n",
        "        return\n",
        "\n",
        "    # 計數器，用來計算擷取的影格數量\n",
        "    frame_count = 0\n",
        "\n",
        "    # 逐一讀取影格\n",
        "    while True:\n",
        "        ret, frame = cap.read()\n",
        "\n",
        "        # 確認是否成功讀取影格\n",
        "        if not ret:\n",
        "            break\n",
        "\n",
        "        # 每隔 frame_interval 幀擷取一次影格\n",
        "        if frame_count % frame_interval == 0:\n",
        "            # 影格儲存的檔案名稱\n",
        "            frame_filename = f\"{output_folder}/frame_{frame_count:04d}.jpg\"\n",
        "\n",
        "            # 儲存影格\n",
        "            cv2.imwrite(frame_filename, frame)\n",
        "\n",
        "        # 更新計數器\n",
        "        frame_count += 1\n",
        "\n",
        "    # 釋放資源\n",
        "    cap.release()\n",
        "\n",
        "    print(f\"Total frames extracted: {frame_count}\")\n",
        "\n",
        "# 影片檔案路徑\n",
        "video_path = \"/content/drive/MyDrive/Finetune/Licence_Finetune/test_video/test_video3_60fps_clip.mp4\"\n",
        "\n",
        "# 輸出資料夾\n",
        "output_folder = \"/content/drive/MyDrive/Finetune/Licence_Finetune/FrameOutput\"\n",
        "\n",
        "# 執行擷取影格的函式(輸入影片,輸出資料夾,每隔?幀擷取一次影格)\n",
        "extract_frames(video_path, output_folder, frame_interval=1)\n"
      ],
      "metadata": {
        "colab": {
          "base_uri": "https://localhost:8080/"
        },
        "id": "60nV8UhndP8z",
        "outputId": "71a0d444-7523-4111-f643-5a92ad233797"
      },
      "execution_count": 3,
      "outputs": [
        {
          "output_type": "stream",
          "name": "stdout",
          "text": [
            "Total frames extracted: 33\n"
          ]
        }
      ]
    }
  ]
}