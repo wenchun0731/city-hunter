{
  "nbformat": 4,
  "nbformat_minor": 0,
  "metadata": {
    "colab": {
      "provenance": [],
      "authorship_tag": "ABX9TyM8lugNXo2NUvQFh19iI+r3",
      "include_colab_link": true
    },
    "kernelspec": {
      "name": "python3",
      "display_name": "Python 3"
    },
    "language_info": {
      "name": "python"
    }
  },
  "cells": [
    {
      "cell_type": "markdown",
      "metadata": {
        "id": "view-in-github",
        "colab_type": "text"
      },
      "source": [
        "<a href=\"https://colab.research.google.com/github/wenchun0731/github-colab/blob/main/%E5%BD%B1%E7%89%87%E5%88%87%E6%88%90%E5%BD%B1%E6%A0%BC%2B%E8%BB%8A%E7%89%8C%E6%88%AA%E5%8F%96.ipynb\" target=\"_parent\"><img src=\"https://colab.research.google.com/assets/colab-badge.svg\" alt=\"Open In Colab\"/></a>"
      ]
    },
    {
      "cell_type": "code",
      "execution_count": 1,
      "metadata": {
        "colab": {
          "base_uri": "https://localhost:8080/"
        },
        "id": "8tiMUqFcaIcv",
        "outputId": "1ddd0f97-2790-4aca-f157-c480d9c97093"
      },
      "outputs": [
        {
          "output_type": "stream",
          "name": "stdout",
          "text": [
            "Mounted at /content/drive\n"
          ]
        }
      ],
      "source": [
        "#掛載雲端硬碟\n",
        "from google.colab import drive\n",
        "drive.mount('/content/drive')"
      ]
    },
    {
      "cell_type": "code",
      "source": [
        "#切成影格\n",
        "\n",
        "import cv2\n",
        "#設定擷取方法\n",
        "def extract_frames(video_path, output_folder, frame_interval):\n",
        "    # 打開影片檔案\n",
        "    cap = cv2.VideoCapture(video_path)\n",
        "\n",
        "    # 確認影片檔案是否成功打開\n",
        "    if not cap.isOpened():\n",
        "        print(\"Error: Unable to open video file.\")\n",
        "        return\n",
        "\n",
        "    # 計數器，用來計算擷取的影格數量\n",
        "    frame_count = 0\n",
        "\n",
        "    # 逐一讀取影格\n",
        "    while True:\n",
        "        ret, frame = cap.read()\n",
        "\n",
        "        # 確認是否成功讀取影格\n",
        "        if not ret:\n",
        "            break\n",
        "\n",
        "        # 每隔 frame_interval 幀擷取一次影格\n",
        "        if frame_count % frame_interval == 0:\n",
        "            # 影格儲存的檔案名稱\n",
        "            frame_filename = f\"{output_folder}/frame_{frame_count:04d}.jpg\"\n",
        "\n",
        "            # 儲存影格\n",
        "            cv2.imwrite(frame_filename, frame)\n",
        "\n",
        "        # 更新計數器\n",
        "        frame_count += 1\n",
        "\n",
        "    # 釋放資源\n",
        "    cap.release()\n",
        "\n",
        "    print(f\"Total frames extracted: {frame_count}\")\n",
        "\n",
        "#只需改以下\n",
        "\n",
        "# 影片檔案路徑(輸入)\n",
        "video_path = \"/content/drive/MyDrive/Finetune/Licence_Finetune/test_video/test_video3_60fps_clip.mp4\"\n",
        "\n",
        "# 輸出資料夾\n",
        "output_folder = \"/content/drive/MyDrive/Finetune/Licence_Finetune/FrameOutput\"\n",
        "\n",
        "# 執行擷取影格的函式(輸入影片,輸出資料夾,每隔?幀擷取一次影格)\n",
        "extract_frames(video_path, output_folder, frame_interval=1)\n"
      ],
      "metadata": {
        "id": "UQ5TJqHGamuA"
      },
      "execution_count": null,
      "outputs": []
    },
    {
      "cell_type": "code",
      "source": [
        "#照片偵測，產出座標檔(模型之後改V8,來源改影格輸出)\n",
        "!python /content/yolov7/detect.py --weights /content/drive/MyDrive/Finetune/Licence_Finetune/train/exp2/weights/best.pt --conf-thres=0.05 --iou-thres=0.5 --img-size 640 --source /content/drive/MyDrive/Finetune/Licence_Finetune/FrameOutput --project /content/drive/MyDrive/Finetune/Licence_Finetune/detect --save-txt --save-conf"
      ],
      "metadata": {
        "id": "gYKHEP-rmz2g"
      },
      "execution_count": null,
      "outputs": []
    },
    {
      "cell_type": "code",
      "source": [
        "# 安裝Pillow庫\n",
        "!pip install Pillow\n",
        "\n",
        "# 從Pillow庫中導入Image\n",
        "from PIL import Image\n",
        "import os"
      ],
      "metadata": {
        "colab": {
          "base_uri": "https://localhost:8080/"
        },
        "id": "gdLcTfkua25O",
        "outputId": "6c4aea0a-f338-4cde-fb03-b2ca9704e5cc"
      },
      "execution_count": 2,
      "outputs": [
        {
          "output_type": "stream",
          "name": "stdout",
          "text": [
            "Requirement already satisfied: Pillow in /usr/local/lib/python3.10/dist-packages (9.4.0)\n"
          ]
        }
      ]
    },
    {
      "cell_type": "code",
      "source": [
        "#擷取車牌\n",
        "\n",
        "# 定義標籤文件和圖像文件的目錄\n",
        "image_dir = '/content/drive/MyDrive/car'  # 輸入圖像的目錄(這裡指定為影格的輸出)\n",
        "label_dir = '/content/drive/MyDrive/Finetune/Licence_Finetune/detect/exp7/labels'  # 輸入圖片座標的目錄(會一直改)\n",
        "output_dir = '/content/drive/MyDrive/Finetune/Licence_Finetune/coordinate_ouput'  # 輸出目錄\n",
        "\n",
        "\n",
        "# 確保保存截取圖像的目錄存在\n",
        "os.makedirs(output_dir, exist_ok=True)\n",
        "\n",
        "# 獲取所有標籤文件\n",
        "label_files = [f for f in os.listdir(label_dir) if f.endswith('.txt')]\n",
        "\n",
        "# 定義拓寬的像素值\n",
        "padding = 10  # 可以根據需要調整拓寬的像素值\n",
        "\n",
        "# 遍歷每個標籤文件並進行處理\n",
        "for label_file in label_files:\n",
        "    label_file_path = os.path.join(label_dir, label_file)\n",
        "\n",
        "    # 讀取標籤文件內容\n",
        "    with open(label_file_path, 'r') as file:\n",
        "        content = file.read().strip()\n",
        "\n",
        "        # 分割數字\n",
        "        numbers = list(map(float, content.split()))\n",
        "\n",
        "        # 進行計算\n",
        "        if len(numbers) >= 6:\n",
        "            # 對應的圖像文件名\n",
        "            image_file = label_file.replace('.txt', '.jpg')\n",
        "            image_path = os.path.join(image_dir, image_file)\n",
        "\n",
        "            # 確保圖像文件存在\n",
        "            if os.path.exists(image_path):\n",
        "                # 打開圖像並獲取其尺寸\n",
        "                image = Image.open(image_path)\n",
        "                width, height = image.size\n",
        "\n",
        "                center_x = numbers[1] * width\n",
        "                center_y = numbers[2] * height\n",
        "                box_width = numbers[3] * width\n",
        "                box_height = numbers[4] * height\n",
        "\n",
        "                # 計算左上角和右下角的座標\n",
        "                left = int(center_x - box_width / 2)\n",
        "                top = int(center_y - box_height / 2)\n",
        "                right = int(center_x + box_width / 2)\n",
        "                bottom = int(center_y + box_height / 2)\n",
        "\n",
        "                # 拓寬邊界\n",
        "                left = max(0, left - padding)\n",
        "                top = max(0, top - padding)\n",
        "                right = min(width, right + padding)\n",
        "                bottom = min(height, bottom + padding)\n",
        "\n",
        "                # 截取圖像\n",
        "                cropped_image = image.crop((left, top, right, bottom))\n",
        "\n",
        "                # 保存截取的圖像\n",
        "                cropped_image_file = f'cropped_{os.path.splitext(image_file)[0]}.jpg'\n",
        "                cropped_image_path = os.path.join(output_dir, cropped_image_file)\n",
        "                cropped_image.save(cropped_image_path)\n",
        "                print(f\"截取的圖像已保存到: {cropped_image_path}\")\n",
        "            else:\n",
        "                print(f\"對應的圖像文件不存在: {image_path}\")\n",
        "        else:\n",
        "            print(f\"文件內容格式錯誤，數字數量不足: {label_file_path}\")\n"
      ],
      "metadata": {
        "colab": {
          "base_uri": "https://localhost:8080/"
        },
        "id": "Cnz5fWmZa6AZ",
        "outputId": "70b7c67d-ceb3-4ba7-db71-7097829c2964"
      },
      "execution_count": 4,
      "outputs": [
        {
          "output_type": "stream",
          "name": "stdout",
          "text": [
            "截取的圖像已保存到: /content/drive/MyDrive/Finetune/Licence_Finetune/coordinate_ouput/cropped_IMG_6201.jpg\n",
            "截取的圖像已保存到: /content/drive/MyDrive/Finetune/Licence_Finetune/coordinate_ouput/cropped_IMG_6200.jpg\n",
            "截取的圖像已保存到: /content/drive/MyDrive/Finetune/Licence_Finetune/coordinate_ouput/cropped_IMG_6202.jpg\n",
            "截取的圖像已保存到: /content/drive/MyDrive/Finetune/Licence_Finetune/coordinate_ouput/cropped_IMG_6204.jpg\n",
            "截取的圖像已保存到: /content/drive/MyDrive/Finetune/Licence_Finetune/coordinate_ouput/cropped_IMG_6205.jpg\n",
            "截取的圖像已保存到: /content/drive/MyDrive/Finetune/Licence_Finetune/coordinate_ouput/cropped_IMG_6206.jpg\n",
            "截取的圖像已保存到: /content/drive/MyDrive/Finetune/Licence_Finetune/coordinate_ouput/cropped_IMG_6207.jpg\n",
            "截取的圖像已保存到: /content/drive/MyDrive/Finetune/Licence_Finetune/coordinate_ouput/cropped_IMG_6210.jpg\n",
            "截取的圖像已保存到: /content/drive/MyDrive/Finetune/Licence_Finetune/coordinate_ouput/cropped_IMG_6211.jpg\n"
          ]
        }
      ]
    }
  ]
}