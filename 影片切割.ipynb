{
  "nbformat": 4,
  "nbformat_minor": 0,
  "metadata": {
    "colab": {
      "provenance": [],
      "authorship_tag": "ABX9TyNx9XizTCZ9mbJDseXEiSgi",
      "include_colab_link": true
    },
    "kernelspec": {
      "name": "python3",
      "display_name": "Python 3"
    },
    "language_info": {
      "name": "python"
    }
  },
  "cells": [
    {
      "cell_type": "markdown",
      "metadata": {
        "id": "view-in-github",
        "colab_type": "text"
      },
      "source": [
        "<a href=\"https://colab.research.google.com/github/wenchun0731/github-colab/blob/main/%E5%BD%B1%E7%89%87%E5%88%87%E5%89%B2.ipynb\" target=\"_parent\"><img src=\"https://colab.research.google.com/assets/colab-badge.svg\" alt=\"Open In Colab\"/></a>"
      ]
    },
    {
      "cell_type": "code",
      "execution_count": 1,
      "metadata": {
        "colab": {
          "base_uri": "https://localhost:8080/"
        },
        "id": "x4sLAeOSboQy",
        "outputId": "661683f6-6440-41cb-a604-4c2297fb05bf"
      },
      "outputs": [
        {
          "output_type": "stream",
          "name": "stdout",
          "text": [
            "Moviepy - Building video output.mp4.\n",
            "MoviePy - Writing audio in outputTEMP_MPY_wvf_snd.mp3\n"
          ]
        },
        {
          "output_type": "stream",
          "name": "stderr",
          "text": []
        },
        {
          "output_type": "stream",
          "name": "stdout",
          "text": [
            "MoviePy - Done.\n",
            "Moviepy - Writing video output.mp4\n",
            "\n"
          ]
        },
        {
          "output_type": "stream",
          "name": "stderr",
          "text": []
        },
        {
          "output_type": "stream",
          "name": "stdout",
          "text": [
            "Moviepy - Done !\n",
            "Moviepy - video ready output.mp4\n"
          ]
        }
      ],
      "source": [
        "from moviepy.video.io.VideoFileClip import VideoFileClip\n",
        "# 讀取影片\n",
        "video = VideoFileClip(\"/content/742971909.027208.mp4\")\n",
        "#以秒數為單位\n",
        "start_time=10\n",
        "end_time=15\n",
        "\n",
        "# 擷取指定範圍的影片片段與編碼格式\n",
        "video_cut = video.subclip(start_time, end_time)\n",
        "video_cut.write_videofile('output.mp4',codec='libx264')"
      ]
    },
    {
      "cell_type": "code",
      "source": [],
      "metadata": {
        "id": "ZsT30XByfmsR"
      },
      "execution_count": null,
      "outputs": []
    }
  ]
}