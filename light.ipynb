{
  "nbformat": 4,
  "nbformat_minor": 0,
  "metadata": {
    "colab": {
      "provenance": [],
      "authorship_tag": "ABX9TyMeUbSOq4WijqOOIyiHKvjx",
      "include_colab_link": true
    },
    "kernelspec": {
      "name": "python3",
      "display_name": "Python 3"
    },
    "language_info": {
      "name": "python"
    }
  },
  "cells": [
    {
      "cell_type": "markdown",
      "metadata": {
        "id": "view-in-github",
        "colab_type": "text"
      },
      "source": [
        "<a href=\"https://colab.research.google.com/github/wenchun0731/github-colab/blob/main/light.ipynb\" target=\"_parent\"><img src=\"https://colab.research.google.com/assets/colab-badge.svg\" alt=\"Open In Colab\"/></a>"
      ]
    },
    {
      "cell_type": "code",
      "execution_count": 11,
      "metadata": {
        "id": "xCX3ugMA5WD0"
      },
      "outputs": [],
      "source": [
        "import cv2\n",
        "img=cv2.imread('/content/紅綠燈3.jpg')\n",
        "img2=img.copy()"
      ]
    },
    {
      "cell_type": "code",
      "source": [
        "import numpy as np\n",
        "lowerb=np.array([190,0,0])\n",
        "upperb=np.array([255,50,50])"
      ],
      "metadata": {
        "id": "mRbEHFHaLX7n"
      },
      "execution_count": 12,
      "outputs": []
    },
    {
      "cell_type": "markdown",
      "source": [
        "## inrange抓取特定範圍顏色，色彩最低範圍數值，色彩最高範圍數值"
      ],
      "metadata": {
        "id": "hcE_pzhCAzQX"
      }
    },
    {
      "cell_type": "code",
      "source": [
        "from google.colab.patches import cv2_imshow\n",
        "output=cv2.inRange(img, lowerb, upperb)\n",
        "kernel = cv2.getStructuringElement(cv2.MORPH_RECT, (11, 11))  # 設定膨脹與侵蝕的參數\n",
        "output = cv2.dilate(output, kernel)       # 膨脹影像，消除雜訊\n",
        "output = cv2.erode(output, kernel)        # 縮小影像，還原大小\n",
        "\n",
        "cv2_imshow(output)"
      ],
      "metadata": {
        "id": "dk8iAHuMAyaI"
      },
      "execution_count": null,
      "outputs": []
    }
  ]
}