{
  "nbformat": 4,
  "nbformat_minor": 0,
  "metadata": {
    "colab": {
      "provenance": [],
      "authorship_tag": "ABX9TyOqjeduI4p0Z/y9AGeVytsg",
      "include_colab_link": true
    },
    "kernelspec": {
      "name": "python3",
      "display_name": "Python 3"
    },
    "language_info": {
      "name": "python"
    }
  },
  "cells": [
    {
      "cell_type": "markdown",
      "metadata": {
        "id": "view-in-github",
        "colab_type": "text"
      },
      "source": [
        "<a href=\"https://colab.research.google.com/github/wenchun0731/github-colab/blob/main/light.ipynb\" target=\"_parent\"><img src=\"https://colab.research.google.com/assets/colab-badge.svg\" alt=\"Open In Colab\"/></a>"
      ]
    },
    {
      "cell_type": "code",
      "execution_count": 11,
      "metadata": {
        "id": "xCX3ugMA5WD0"
      },
      "outputs": [],
      "source": [
        "import cv2\n",
        "img=cv2.imread('/content/紅綠燈3.jpg')\n",
        "img2=img.copy()"
      ]
    },
    {
      "cell_type": "code",
      "source": [
        "import numpy as np\n",
        "lowerb=np.array([190,0,0])\n",
        "upperb=np.array([255,50,50])"
      ],
      "metadata": {
        "id": "mRbEHFHaLX7n"
      },
      "execution_count": 12,
      "outputs": []
    },
    {
      "cell_type": "markdown",
      "source": [
        "## inrange抓取特定範圍顏色，色彩最低範圍數值，色彩最高範圍數值"
      ],
      "metadata": {
        "id": "hcE_pzhCAzQX"
      }
    },
    {
      "cell_type": "code",
      "source": [
        "from google.colab.patches import cv2_imshow\n",
        "output=cv2.inRange(img, lowerb, upperb)\n",
        "kernel = cv2.getStructuringElement(cv2.MORPH_RECT, (11, 11))  # 設定膨脹與侵蝕的參數\n",
        "output = cv2.dilate(output, kernel)       # 膨脹影像，消除雜訊\n",
        "output = cv2.erode(output, kernel)        # 縮小影像，還原大小\n",
        "\n",
        "cv2_imshow(output)"
      ],
      "metadata": {
        "colab": {
          "base_uri": "https://localhost:8080/",
          "height": 589
        },
        "id": "dk8iAHuMAyaI",
        "outputId": "799f0dc5-95a9-45db-fca6-21c1a9e8e923"
      },
      "execution_count": 13,
      "outputs": [
        {
          "output_type": "display_data",
          "data": {
            "text/plain": [
              "<PIL.Image.Image image mode=L size=321x572>"
            ],
            "image/png": "[encoded data removed]"
          },
          "metadata": {}
        }
      ]
    },
    {
      "cell_type": "markdown",
      "source": [
        "## 紅綠燈色彩:紅(255,0,0)綠(0,255,0)"
      ],
      "metadata": {
        "id": "z-P7F59hBf_U"
      }
    },
    {
      "cell_type": "code",
      "source": [],
      "metadata": {
        "id": "KGVMJvbQKLcw"
      },
      "execution_count": null,
      "outputs": []
    },
    {
      "cell_type": "code",
      "source": [],
      "metadata": {
        "id": "8K3GE6iSKS7B"
      },
      "execution_count": null,
      "outputs": []
    },
    {
      "cell_type": "code",
      "source": [],
      "metadata": {
        "id": "Qsvm7JeTK8Qt"
      },
      "execution_count": null,
      "outputs": []
    }
  ]
}