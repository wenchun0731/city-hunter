{
  "nbformat": 4,
  "nbformat_minor": 0,
  "metadata": {
    "colab": {
      "provenance": [],
      "authorship_tag": "ABX9TyNtZE2GwjKAkNLeTOLbC0rK",
      "include_colab_link": true
    },
    "kernelspec": {
      "name": "python3",
      "display_name": "Python 3"
    },
    "language_info": {
      "name": "python"
    }
  },
  "cells": [
    {
      "cell_type": "markdown",
      "metadata": {
        "id": "view-in-github",
        "colab_type": "text"
      },
      "source": [
        "<a href=\"https://colab.research.google.com/github/wenchun0731/github-colab/blob/main/light.ipynb\" target=\"_parent\"><img src=\"https://colab.research.google.com/assets/colab-badge.svg\" alt=\"Open In Colab\"/></a>"
      ]
    },
    {
      "cell_type": "code",
      "execution_count": 115,
      "metadata": {
        "id": "xCX3ugMA5WD0"
      },
      "outputs": [],
      "source": [
        "import cv2\n",
        "img=cv2.imread('/content/橘燈.jpg')\n",
        "img2=img.copy()"
      ]
    },
    {
      "cell_type": "markdown",
      "source": [
        "紅色\n",
        "\n",
        "lower=np.array([0,0,200])\n",
        "\n",
        "upper=np.array([30,30,255])\n",
        "\n",
        "橘色\n",
        "\n",
        "lower=np.array([0,100,200])\n",
        "\n",
        "upper=np.array([50,255,255])\n",
        "\n",
        "綠色\n",
        "\n",
        "lower=np.array([0,200,0])\n",
        "\n",
        "upper=np.array([30,255,150])"
      ],
      "metadata": {
        "id": "dDMfpZ3i6-cs"
      }
    },
    {
      "cell_type": "code",
      "source": [
        "import numpy as np\n",
        "lower=np.array([0,100,150])\n",
        "\n",
        "upper=np.array([100,255,255])"
      ],
      "metadata": {
        "id": "mRbEHFHaLX7n"
      },
      "execution_count": 122,
      "outputs": []
    },
    {
      "cell_type": "markdown",
      "source": [
        "## inrange抓取特定範圍顏色，色彩最低範圍數值，色彩最高範圍數值"
      ],
      "metadata": {
        "id": "hcE_pzhCAzQX"
      }
    },
    {
      "cell_type": "code",
      "source": [
        "from google.colab.patches import cv2_imshow\n",
        "# 符合range內為白色\n",
        "mask=cv2.inRange(img,lower,upper)\n",
        "output = cv2.bitwise_and(img, img, mask = mask )\n",
        "\n",
        "\n",
        "\n",
        "cv2_imshow(output)"
      ],
      "metadata": {
        "id": "dk8iAHuMAyaI",
        "outputId": "ee7e10ff-0e28-4c36-8b74-9cc7254d3d99",
        "colab": {
          "base_uri": "https://localhost:8080/",
          "height": 367
        }
      },
      "execution_count": 123,
      "outputs": [
        {
          "output_type": "display_data",
          "data": {
            "text/plain": [
              "<PIL.Image.Image image mode=RGB size=620x350>"
            ],
            "image/png": "[encoded data removed]"
          },
          "metadata": {}
        }
      ]
    },
    {
      "cell_type": "code",
      "source": [
        "mask_area=np.sum(mask==255)\n",
        "print(mask_area)"
      ],
      "metadata": {
        "id": "fWDGAfJzvA3M",
        "colab": {
          "base_uri": "https://localhost:8080/"
        },
        "outputId": "cd1a46f0-3d6f-4ffb-d22c-34583c83b36d"
      },
      "execution_count": 95,
      "outputs": [
        {
          "output_type": "stream",
          "name": "stdout",
          "text": [
            "0\n"
          ]
        }
      ]
    },
    {
      "cell_type": "code",
      "source": [
        "import numpy as np\n",
        "import cv2\n",
        "img=cv2.imread('/content/綠燈.jpg')\n",
        "\n",
        "def red_area(img):\n",
        "  lower=np.array([0,0,120])\n",
        "  upper=np.array([30,100,255])\n",
        "  mask=cv2.inRange(img,lower,upper)\n",
        "  mask_area=np.sum(mask==255)\n",
        "  return mask_area\n",
        "\n",
        "def green_area(img):\n",
        "  lower=np.array([150,200,0])\n",
        "  upper=np.array([250,255,100])\n",
        "  mask=cv2.inRange(img,lower,upper)\n",
        "  mask_area=np.sum(mask==255)\n",
        "  return mask_area\n",
        "\n",
        "def orange_area(img):\n",
        "  lower=np.array([0,100,150])\n",
        "  upper=np.array([100,255,255])\n",
        "  mask=cv2.inRange(img,lower,upper)\n",
        "  mask_area=np.sum(mask==255)\n",
        "  return mask_area\n",
        "\n",
        "green=green_area(img)\n",
        "orange=orange_area(img)\n",
        "red=red_area(img)\n",
        "\n",
        "# print(green,orange,red)\n",
        "if green>orange and green>red:\n",
        "  print('綠燈')\n",
        "elif orange>red:\n",
        "  print('橘燈')\n",
        "else:\n",
        "  print('紅燈')"
      ],
      "metadata": {
        "colab": {
          "base_uri": "https://localhost:8080/"
        },
        "id": "mwHNzPt861wo",
        "outputId": "9e381883-a76d-46c4-eebe-7a9f02b24a8c"
      },
      "execution_count": 127,
      "outputs": [
        {
          "output_type": "stream",
          "name": "stdout",
          "text": [
            "綠燈\n"
          ]
        }
      ]
    },
    {
      "cell_type": "code",
      "source": [],
      "metadata": {
        "id": "ChOPhfoHB3ta"
      },
      "execution_count": null,
      "outputs": []
    }
  ]
}