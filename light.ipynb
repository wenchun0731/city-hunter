{
  "nbformat": 4,
  "nbformat_minor": 0,
  "metadata": {
    "colab": {
      "provenance": [],
      "authorship_tag": "ABX9TyMZPk89yREmHUQBnj0Ski5y",
      "include_colab_link": true
    },
    "kernelspec": {
      "name": "python3",
      "display_name": "Python 3"
    },
    "language_info": {
      "name": "python"
    }
  },
  "cells": [
    {
      "cell_type": "markdown",
      "metadata": {
        "id": "view-in-github",
        "colab_type": "text"
      },
      "source": [
        "<a href=\"https://colab.research.google.com/github/wenchun0731/github-colab/blob/main/light.ipynb\" target=\"_parent\"><img src=\"https://colab.research.google.com/assets/colab-badge.svg\" alt=\"Open In Colab\"/></a>"
      ]
    },
    {
      "cell_type": "code",
      "execution_count": 106,
      "metadata": {
        "id": "xCX3ugMA5WD0"
      },
      "outputs": [],
      "source": [
        "import cv2\n",
        "img=cv2.imread('/content/紅燈.jpg')\n",
        "img2=img.copy()"
      ]
    },
    {
      "cell_type": "markdown",
      "source": [
        "紅色\n",
        "\n",
        "lower=np.array([0,0,200])\n",
        "\n",
        "upper=np.array([30,30,255])\n",
        "\n",
        "橘色\n",
        "\n",
        "lower=np.array([0,100,200])\n",
        "\n",
        "upper=np.array([50,255,255])\n",
        "\n",
        "綠色\n",
        "\n",
        "lower=np.array([0,200,0])\n",
        "\n",
        "upper=np.array([30,255,150])"
      ],
      "metadata": {
        "id": "dDMfpZ3i6-cs"
      }
    },
    {
      "cell_type": "code",
      "source": [
        "import numpy as np\n",
        "lower=np.array([0,100,200])\n",
        "\n",
        "upper=np.array([50,255,255])"
      ],
      "metadata": {
        "id": "mRbEHFHaLX7n"
      },
      "execution_count": 109,
      "outputs": []
    },
    {
      "cell_type": "markdown",
      "source": [
        "## inrange抓取特定範圍顏色，色彩最低範圍數值，色彩最高範圍數值"
      ],
      "metadata": {
        "id": "hcE_pzhCAzQX"
      }
    },
    {
      "cell_type": "code",
      "source": [
        "from google.colab.patches import cv2_imshow\n",
        "# 符合range內為白色\n",
        "mask=cv2.inRange(img,lower,upper)\n",
        "output = cv2.bitwise_and(img, img, mask = mask )\n",
        "\n",
        "\n",
        "\n",
        "cv2_imshow(output)"
      ],
      "metadata": {
        "id": "dk8iAHuMAyaI",
        "outputId": "3a208330-d4ba-4361-837a-b30fc9c1f145",
        "colab": {
          "base_uri": "https://localhost:8080/",
          "height": 335
        }
      },
      "execution_count": 110,
      "outputs": [
        {
          "output_type": "display_data",
          "data": {
            "text/plain": [
              "<PIL.Image.Image image mode=RGB size=450x318>"
            ],
            "image/png": "[encoded data removed]"
          },
          "metadata": {}
        }
      ]
    },
    {
      "cell_type": "code",
      "source": [
        "mask_area=np.sum(mask==255)\n",
        "print(mask_area)"
      ],
      "metadata": {
        "id": "fWDGAfJzvA3M",
        "colab": {
          "base_uri": "https://localhost:8080/"
        },
        "outputId": "cd1a46f0-3d6f-4ffb-d22c-34583c83b36d"
      },
      "execution_count": 95,
      "outputs": [
        {
          "output_type": "stream",
          "name": "stdout",
          "text": [
            "0\n"
          ]
        }
      ]
    },
    {
      "cell_type": "code",
      "source": [
        "import numpy as np\n",
        "import cv2\n",
        "img=cv2.imread('/content/橘燈.jpg')\n",
        "\n",
        "def red_area(img):\n",
        "  lower=np.array([0,0,200])\n",
        "  upper=np.array([30,30,255])\n",
        "  mask=cv2.inRange(img,lower,upper)\n",
        "  mask_area=np.sum(mask==255)\n",
        "  return mask_area\n",
        "\n",
        "def green_area(img):\n",
        "  lower=np.array([0,150,0])\n",
        "  upper=np.array([30,255,180])\n",
        "  mask=cv2.inRange(img,lower,upper)\n",
        "  mask_area=np.sum(mask==255)\n",
        "  return mask_area\n",
        "\n",
        "def orange_area(img):\n",
        "  lower=np.array([0,100,200])\n",
        "  upper=np.array([50,255,255])\n",
        "  mask=cv2.inRange(img,lower,upper)\n",
        "  mask_area=np.sum(mask==255)\n",
        "  return mask_area\n",
        "\n",
        "green=green_area(img)\n",
        "orange=orange_area(img)\n",
        "red=red_area(img)\n",
        "\n",
        "print(green,orange,red)\n",
        "# if green>orange and green>red:\n",
        "#   print('綠燈')\n",
        "# elif orange>red:\n",
        "#   print('橘燈')\n",
        "# else:\n",
        "#   print('紅燈')"
      ],
      "metadata": {
        "colab": {
          "base_uri": "https://localhost:8080/"
        },
        "id": "mwHNzPt861wo",
        "outputId": "cd6800cb-921f-4620-b5a0-edea7640e279"
      },
      "execution_count": 105,
      "outputs": [
        {
          "output_type": "stream",
          "name": "stdout",
          "text": [
            "6 4915 32\n"
          ]
        }
      ]
    },
    {
      "cell_type": "code",
      "source": [],
      "metadata": {
        "id": "ChOPhfoHB3ta"
      },
      "execution_count": null,
      "outputs": []
    }
  ]
}