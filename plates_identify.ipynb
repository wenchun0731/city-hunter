{
  "nbformat": 4,
  "nbformat_minor": 0,
  "metadata": {
    "colab": {
      "provenance": [],
      "authorship_tag": "ABX9TyNcj4YS7BvqEKeQbzQ2To6f",
      "include_colab_link": true
    },
    "kernelspec": {
      "name": "python3",
      "display_name": "Python 3"
    },
    "language_info": {
      "name": "python"
    }
  },
  "cells": [
    {
      "cell_type": "markdown",
      "metadata": {
        "id": "view-in-github",
        "colab_type": "text"
      },
      "source": [
        "<a href=\"https://colab.research.google.com/github/wenchun0731/github-colab/blob/main/plates_identify.ipynb\" target=\"_parent\"><img src=\"https://colab.research.google.com/assets/colab-badge.svg\" alt=\"Open In Colab\"/></a>"
      ]
    },
    {
      "cell_type": "code",
      "source": [
        "from google.colab import drive\n",
        "drive.mount('/content/drive')"
      ],
      "metadata": {
        "colab": {
          "base_uri": "https://localhost:8080/"
        },
        "id": "wnTCHWmwueB0",
        "outputId": "005526df-f1bf-4c10-e236-5b547fcc30ba"
      },
      "execution_count": 1,
      "outputs": [
        {
          "output_type": "stream",
          "name": "stdout",
          "text": [
            "Mounted at /content/drive\n"
          ]
        }
      ]
    },
    {
      "cell_type": "code",
      "execution_count": 12,
      "metadata": {
        "colab": {
          "base_uri": "https://localhost:8080/"
        },
        "id": "onomfkzcrjVe",
        "outputId": "effc1b97-3d3f-467e-b23a-298ecee61ebb"
      },
      "outputs": [
        {
          "output_type": "stream",
          "name": "stdout",
          "text": [
            "Reading package lists... Done\n",
            "Building dependency tree... Done\n",
            "Reading state information... Done\n",
            "tesseract-ocr is already the newest version (4.1.1-2.1build1).\n",
            "0 upgraded, 0 newly installed, 0 to remove and 45 not upgraded.\n",
            "Reading package lists... Done\n",
            "Building dependency tree... Done\n",
            "Reading state information... Done\n",
            "libtesseract-dev is already the newest version (4.1.1-2.1build1).\n",
            "0 upgraded, 0 newly installed, 0 to remove and 45 not upgraded.\n",
            "Requirement already satisfied: pytesseract in /usr/local/lib/python3.10/dist-packages (0.3.10)\n",
            "Requirement already satisfied: packaging>=21.3 in /usr/local/lib/python3.10/dist-packages (from pytesseract) (24.0)\n",
            "Requirement already satisfied: Pillow>=8.0.0 in /usr/local/lib/python3.10/dist-packages (from pytesseract) (9.4.0)\n",
            "Requirement already satisfied: pillow in /usr/local/lib/python3.10/dist-packages (9.4.0)\n"
          ]
        },
        {
          "output_type": "stream",
          "name": "stderr",
          "text": [
            "<ipython-input-12-61b2508dc926>:96: DeprecationWarning: `np.int0` is a deprecated alias for `np.intp`.  (Deprecated NumPy 1.24)\n",
            "  points = np.int0(points)\n",
            "<ipython-input-12-61b2508dc926>:96: DeprecationWarning: `np.int0` is a deprecated alias for `np.intp`.  (Deprecated NumPy 1.24)\n",
            "  points = np.int0(points)\n"
          ]
        },
        {
          "output_type": "stream",
          "name": "stdout",
          "text": [
            "辨識結果:\n",
            "ARE7781\n",
            "ARE7781\n",
            "\f\n",
            "辨識結果:\n",
            "ARE728\n",
            "ARE728\n",
            "\f\n"
          ]
        },
        {
          "output_type": "stream",
          "name": "stderr",
          "text": [
            "<ipython-input-12-61b2508dc926>:96: DeprecationWarning: `np.int0` is a deprecated alias for `np.intp`.  (Deprecated NumPy 1.24)\n",
            "  points = np.int0(points)\n",
            "<ipython-input-12-61b2508dc926>:96: DeprecationWarning: `np.int0` is a deprecated alias for `np.intp`.  (Deprecated NumPy 1.24)\n",
            "  points = np.int0(points)\n"
          ]
        },
        {
          "output_type": "stream",
          "name": "stdout",
          "text": [
            "辨識結果:\n",
            "BNT6502\n",
            "BNT6502\n",
            "\f\n",
            "辨識結果:\n",
            "BKY7610\n",
            "BKY7610\n",
            "\f\n"
          ]
        },
        {
          "output_type": "stream",
          "name": "stderr",
          "text": [
            "<ipython-input-12-61b2508dc926>:96: DeprecationWarning: `np.int0` is a deprecated alias for `np.intp`.  (Deprecated NumPy 1.24)\n",
            "  points = np.int0(points)\n",
            "<ipython-input-12-61b2508dc926>:96: DeprecationWarning: `np.int0` is a deprecated alias for `np.intp`.  (Deprecated NumPy 1.24)\n",
            "  points = np.int0(points)\n"
          ]
        },
        {
          "output_type": "stream",
          "name": "stdout",
          "text": [
            "辨識結果:\n",
            "BKY7610\n",
            "BKY7610\n",
            "\f\n",
            "辨識結果:\n",
            "BNT6302\n",
            "BNT6302\n",
            "\f\n"
          ]
        },
        {
          "output_type": "stream",
          "name": "stderr",
          "text": [
            "<ipython-input-12-61b2508dc926>:96: DeprecationWarning: `np.int0` is a deprecated alias for `np.intp`.  (Deprecated NumPy 1.24)\n",
            "  points = np.int0(points)\n",
            "<ipython-input-12-61b2508dc926>:96: DeprecationWarning: `np.int0` is a deprecated alias for `np.intp`.  (Deprecated NumPy 1.24)\n",
            "  points = np.int0(points)\n"
          ]
        },
        {
          "output_type": "stream",
          "name": "stdout",
          "text": [
            "辨識結果:\n",
            "ATC9706\n",
            "ATC9706\n",
            "\f\n",
            "辨識結果:\n",
            "ARE728\n",
            "ARE728\n",
            "\f\n"
          ]
        },
        {
          "output_type": "stream",
          "name": "stderr",
          "text": [
            "<ipython-input-12-61b2508dc926>:96: DeprecationWarning: `np.int0` is a deprecated alias for `np.intp`.  (Deprecated NumPy 1.24)\n",
            "  points = np.int0(points)\n",
            "<ipython-input-12-61b2508dc926>:96: DeprecationWarning: `np.int0` is a deprecated alias for `np.intp`.  (Deprecated NumPy 1.24)\n",
            "  points = np.int0(points)\n"
          ]
        },
        {
          "output_type": "stream",
          "name": "stdout",
          "text": [
            "辨識結果:\n",
            "ATC9706\n",
            "ATC9706\n",
            "\f\n",
            "辨識結果:\n",
            "ARE728\n",
            "ARE728\n",
            "\f\n",
            "辨識結果:\n",
            "ARE7281\n",
            "ARE7281\n",
            "\f\n"
          ]
        },
        {
          "output_type": "stream",
          "name": "stderr",
          "text": [
            "<ipython-input-12-61b2508dc926>:96: DeprecationWarning: `np.int0` is a deprecated alias for `np.intp`.  (Deprecated NumPy 1.24)\n",
            "  points = np.int0(points)\n"
          ]
        }
      ],
      "source": [
        "import cv2\n",
        "from google.colab.patches import cv2_imshow\n",
        "import PIL\n",
        "import glob\n",
        "from PIL import Image\n",
        "import matplotlib.pyplot as plt\n",
        "from google.colab.patches import cv2_imshow\n",
        "import numpy as np\n",
        "!apt install tesseract-ocr\n",
        "!apt install libtesseract-dev\n",
        "!pip install pytesseract\n",
        "!pip install pillow\n",
        "import pytesseract\n",
        "#照片路徑\n",
        "files=glob.glob('/content/drive/MyDrive/small_plates/*.jpg')\n",
        "def photo_resize(img,target_width,target_height):\n",
        "  # 調整圖片大小\n",
        "  re_img=cv2.resize(img, (target_width, target_height))\n",
        "  return re_img\n",
        "#調整亮度與對比度\n",
        "def adjusted(img,x,y):\n",
        "  alpha = x\n",
        "  beta = y\n",
        "\n",
        "  adjusted_image = cv2.convertScaleAbs(img, alpha=alpha, beta=beta)\n",
        "\n",
        "  return adjusted_image\n",
        "\n",
        "def Sobel(img):\n",
        "  Sobelx=cv2.Sobel(img,cv2.CV_32F,1,0)\n",
        "  Sobelx=cv2.convertScaleAbs(Sobelx)\n",
        "  return Sobelx\n",
        "\n",
        "def Gussian(img):\n",
        "  kernel_size = (5, 5)  # 高斯和大小 通常奇數\n",
        "  sigma_x = 0  # X方向上的標準差，0 表示根據核大小自動計算\n",
        "  # 高斯濾波器\n",
        "  blurred_img = cv2.GaussianBlur(img, kernel_size, sigma_x)\n",
        "  return blurred_img\n",
        "def threshold(img):\n",
        "  thr, binary = cv2.threshold(img,127, 255, cv2.THRESH_BINARY)\n",
        "  return binary\n",
        "def contours(img):\n",
        "  contours1 = cv2.findContours(img, cv2.RETR_EXTERNAL, cv2.CHAIN_APPROX_SIMPLE) #尋找輪廓\n",
        "  contours = contours1[0]   #取得輪廓\n",
        "  # cv2.drawContours(img, contours, -1, (0, 255, 0), 2)\n",
        "  letters=[]\n",
        "  for contour in contours:\n",
        "    x,y,w,h=cv2.boundingRect(contour)\n",
        "    if 15<h<90: #要改的參數!!!10<h<100\n",
        "      letters.append(contour)\n",
        "  # cv2.drawContours(contours_img, letters, -1, (255, 0, 0), 2)\n",
        "  # cv2_imshow(contours_img)\n",
        "  #找出最小x跟最大x\n",
        "  min_x =float('inf')#正無窮\n",
        "  max_x =0\n",
        "  for letter in letters:\n",
        "    for point in letter:\n",
        "      x=point[0][0]\n",
        "      min_x=min(min_x,x)\n",
        "      max_x=max(max_x,x)\n",
        "  return min_x,max_x\n",
        "#image[y:h,x:w]\n",
        "def cropped(img,x,y,h,w):\n",
        "  cropped_img=img[y:h,x:w]\n",
        "\n",
        "  return cropped_img\n",
        "\n",
        "def erope(img):\n",
        "  kernel=np.ones((3, 3),np.uint8)\n",
        "  ero=cv2.erode(img,kernel,iterations=1)\n",
        "  return ero\n",
        "\n",
        "def dilate(img):\n",
        "  kernel=np.ones((2, 5),np.uint8)\n",
        "  dilation=cv2.dilate(img,kernel,iterations=8)\n",
        "  return dilation\n",
        "\n",
        "def findcontour(img):\n",
        "  contours1 = cv2.findContours(img, cv2.RETR_EXTERNAL, cv2.CHAIN_APPROX_SIMPLE) #尋找輪廓\n",
        "  contours = contours1[0]   #取得輪廓\n",
        "  points=None\n",
        "  min_contour_length = 2500\n",
        "\n",
        "  # 遍歷所有輪廓\n",
        "  for contour in contours:\n",
        "      # 計算輪廓的面積\n",
        "      area = cv2.contourArea(contour)\n",
        "\n",
        "      # 如果輪廓的面積大於2500，繪製最小外接矩形\n",
        "      if area >= min_contour_length:\n",
        "          # 計算輪廓的最小外接矩形\n",
        "          rect = cv2.minAreaRect(contour)\n",
        "          angle=rect[2]\n",
        "          points = cv2.boxPoints(rect)\n",
        "          points = np.int0(points)\n",
        "          break\n",
        "\n",
        "  if points is not None:\n",
        "    if angle>=0:\n",
        "      sorted_points = sorted(points, key=lambda x: x[0])\n",
        "      bottom_left=sorted_points[0]\n",
        "      top_left=sorted_points[1]\n",
        "      bottom_right=sorted_points[2]\n",
        "      top_right=sorted_points[3]\n",
        "\n",
        "      return bottom_left,top_left,bottom_right,top_right\n",
        "    else:\n",
        "      sorted_points = sorted(points, key=lambda x: x[0])\n",
        "      top_left=sorted_points[0]\n",
        "      bottom_left=sorted_points[1]\n",
        "      top_right=sorted_points[2]\n",
        "      bottom_right=sorted_points[3]\n",
        "\n",
        "      return bottom_left,top_left,bottom_right,top_right\n",
        "  else:\n",
        "    return 0,0,0,0\n",
        "\n",
        "def affine(img,bottom_left,top_left,bottom_right,top_right):\n",
        "  p1 = np.float32([(top_left),(top_right),(bottom_right)])\n",
        "  p2 = np.float32([[top_left[0],top_right[1]],(top_right),(bottom_right)])\n",
        "  M = cv2.getAffineTransform(p1, p2)\n",
        "\n",
        "  h,w=adj_img.shape[:2]\n",
        "\n",
        "  output = cv2.warpAffine(adj_img, M,(w,h))\n",
        "\n",
        "  x=0\n",
        "  y=min(top_right[1],bottom_right[1])\n",
        "  h=abs(bottom_right[1]-top_right[1])\n",
        "\n",
        "  output=output[y-5:y+h,x:x+w]\n",
        "  # output=adjusted(output,-1.5,15)\n",
        "  # output=adjusted(output,-1.3,12)\n",
        "  output=adjusted(output,-1.5,15)\n",
        "  if output is not None:\n",
        "    # output = cv2.cvtColor(output,cv2.COLOR_BGR2GRAY)\n",
        "    # thr, output = cv2.threshold(output,127, 255, cv2.THRESH_BINARY)\n",
        "    cv2.imwrite('output.jpg',output)\n",
        "  else:\n",
        "    print('None')\n",
        "    pass\n",
        "\n",
        "def tesseracttt(img):\n",
        "\n",
        "  config = r'-c tessedit_char_whitelist=ABCDEFGHIJKLMNOPQRSTUVWXYZ0123456789. --oem 3 --psm 6'\n",
        "  text = pytesseract.image_to_string(img,lang='eng',config=config)\n",
        "\n",
        "  if len(text) ==1:\n",
        "    print('辨識失敗')\n",
        "  else:\n",
        "    clean_text = text.strip()#去除兩端不可見字符\n",
        "    print('辨識結果:\\n{}'.format(clean_text))\n",
        "    img=cv2.imread(img)\n",
        "    # cv2.putText(img, clean_text, (int(50), int(50)), cv2.FONT_HERSHEY_SIMPLEX, 1, (0, 255, 0), 3)\n",
        "    # cv2_imshow(img)\n",
        "    return text\n",
        "for file in files:\n",
        "  img=cv2.imread(file)\n",
        "  #調整圖片大小\n",
        "  # img=photo_resize(img,300,136)\n",
        "  img=photo_resize(img,300,136)\n",
        "  #調整圖片亮度與對比度\n",
        "  adj_img=adjusted(img,-1.5,15)\n",
        "  #灰階\n",
        "  gray_img = cv2.cvtColor(adj_img,cv2.COLOR_BGR2GRAY)\n",
        "  #索伯\n",
        "  Sobelx=Sobel(gray_img)\n",
        "  #高斯模糊\n",
        "  blur_img=Gussian(Sobelx)\n",
        "  #二值化\n",
        "  binary=threshold(blur_img)\n",
        "  # cv2_imshow(binary)\n",
        "  # plt.imshow(cv2.cvtColor(binary, cv2.COLOR_BGR2RGB))\n",
        "  # plt.axis('off')\n",
        "  # plt.show()\n",
        "  #找出輪廓\n",
        "  min_x,max_x=contours(binary)\n",
        "  #車牌框裁切\n",
        "  cropped_img=cropped(binary,min_x,0,binary.shape[0],max_x)\n",
        "  #侵蝕\n",
        "  ero_img=erope(cropped_img)\n",
        "  #膨脹\n",
        "  dilate_img=dilate(ero_img)\n",
        "  # cv2_imshow(dilate_img)\n",
        "  #找出最小四邊形輪廓\n",
        "  bottom_left,top_left,bottom_right,top_right=findcontour(dilate_img)\n",
        "  # out_img=tesseract(output)\n",
        "\n",
        "  adj_img=cropped(adj_img,min_x,0,img.shape[0],max_x)\n",
        "  # cv2_imshow(adj_img)\n",
        "  #訪設變換\n",
        "  affine(adj_img,bottom_left,top_left,bottom_right,top_right)\n",
        "  # cv2.imwrite('output.jpg',output)\n",
        "  #字元辨識\n",
        "  text=tesseracttt('output.jpg')\n",
        "  print(text)\n"
      ]
    },
    {
      "cell_type": "code",
      "source": [
        "print(text)"
      ],
      "metadata": {
        "id": "R1PJTPQBvOur",
        "colab": {
          "base_uri": "https://localhost:8080/"
        },
        "outputId": "4c8f36ef-fd71-4434-d537-e5036f32bac5"
      },
      "execution_count": 13,
      "outputs": [
        {
          "output_type": "stream",
          "name": "stdout",
          "text": [
            "ARE7281\n",
            "\f\n"
          ]
        }
      ]
    },
    {
      "cell_type": "code",
      "source": [
        "#下載mysql connector\n",
        "!pip install mysql-connector-python"
      ],
      "metadata": {
        "colab": {
          "base_uri": "https://localhost:8080/"
        },
        "id": "ie19kW-Lh6td",
        "outputId": "9a43ee4a-1cad-4e82-8a0a-92289157fd00"
      },
      "execution_count": 4,
      "outputs": [
        {
          "output_type": "stream",
          "name": "stdout",
          "text": [
            "Collecting mysql-connector-python\n",
            "  Downloading mysql_connector_python-8.4.0-cp310-cp310-manylinux_2_17_x86_64.whl (19.4 MB)\n",
            "\u001b[2K     \u001b[90m━━━━━━━━━━━━━━━━━━━━━━━━━━━━━━━━━━━━━━━━\u001b[0m \u001b[32m19.4/19.4 MB\u001b[0m \u001b[31m50.5 MB/s\u001b[0m eta \u001b[36m0:00:00\u001b[0m\n",
            "\u001b[?25hInstalling collected packages: mysql-connector-python\n",
            "Successfully installed mysql-connector-python-8.4.0\n"
          ]
        }
      ]
    },
    {
      "cell_type": "code",
      "source": [
        "#import相關套件\n",
        "import mysql.connector\n",
        "import pandas.io.sql as sql\n",
        "import pandas as pd"
      ],
      "metadata": {
        "id": "ltamvpX2h_uW"
      },
      "execution_count": 9,
      "outputs": []
    },
    {
      "cell_type": "code",
      "source": [
        "#連結到資料庫\n",
        "config = {\n",
        "    'user':'113403',\n",
        "    'password':'@All3403@',\n",
        "    'host':'140.131.114.242',\n",
        "    'database':'113-law'\n",
        "}\n",
        "cnx=mysql.connector.connect(**config)\n",
        "cursor = cnx.cursor()"
      ],
      "metadata": {
        "id": "3C1J5_ioiC2z"
      },
      "execution_count": 6,
      "outputs": []
    },
    {
      "cell_type": "code",
      "source": [
        "#新增資料\n",
        "# text='AAA1234'#你要的變數在這\n",
        "data = {'license_plate': [text],\n",
        "        'date_time': ['2024-05-15 10:10:00'],\n",
        "        'location': ['Taipei'],\n",
        "        'violation': [False]}\n",
        "df = pd.DataFrame(data)"
      ],
      "metadata": {
        "id": "B8mit-93iEj4"
      },
      "execution_count": 14,
      "outputs": []
    },
    {
      "cell_type": "code",
      "source": [
        "# SQL插入语句\n",
        "add_violation = (\"INSERT INTO testapp_car \"\n",
        "                 \"(license_plate, date_time, location, violation) \"\n",
        "                 \"VALUES (%s, %s, %s, %s)\")\n",
        "\n",
        "# 将DataFrame中的每一行数据插入到数据库中\n",
        "for index, row in df.iterrows():\n",
        "    data_violation = (row['license_plate'], row['date_time'], row['location'], row['violation'])\n",
        "    cursor.execute(add_violation, data_violation)\n",
        "\n",
        "# 提交事务\n",
        "cnx.commit()"
      ],
      "metadata": {
        "id": "Gx3aBjI0iGG2"
      },
      "execution_count": 15,
      "outputs": []
    },
    {
      "cell_type": "code",
      "source": [
        "# 关闭游标和连接\n",
        "cursor.close()\n",
        "cnx.close()"
      ],
      "metadata": {
        "id": "6mcCT0LEiHro"
      },
      "execution_count": 16,
      "outputs": []
    },
    {
      "cell_type": "code",
      "source": [
        "print(text)"
      ],
      "metadata": {
        "colab": {
          "base_uri": "https://localhost:8080/"
        },
        "id": "aHu5u2lzjBF8",
        "outputId": "0b4b31b0-5d62-461f-815e-761e5850f0ec"
      },
      "execution_count": 17,
      "outputs": [
        {
          "output_type": "stream",
          "name": "stdout",
          "text": [
            "ARE7281\n",
            "\f\n"
          ]
        }
      ]
    },
    {
      "cell_type": "code",
      "source": [],
      "metadata": {
        "id": "JNHG_m-hjOFb"
      },
      "execution_count": null,
      "outputs": []
    }
  ]
}